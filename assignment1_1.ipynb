{
 "cells": [
  {
   "cell_type": "code",
   "execution_count": null,
   "metadata": {},
   "outputs": [],
   "source": [
    "import numpy as np\n",
    "import matplotlib.pyplot as plt\n",
    "\n",
    "# Initial investment and rate of return\n",
    "initial_investment = 1000\n",
    "r = 0.04\n",
    "years = np.arange(2021, 2071)\n",
    "time = years - 2021\n",
    "\n",
    "# Calculate the value of the investment over time\n",
    "values = initial_investment * (1 + r) ** time\n",
    "\n",
    "# Plot the investment values over time\n",
    "plt.figure(figsize=(10, 6))\n",
    "plt.plot(years, values, label='Investment Value')\n",
    "\n",
    "# Calculate the exponential growth function values\n",
    "exp_values = initial_investment * (1 + r) ** time\n",
    "\n",
    "# Plot the exponential growth function\n",
    "plt.plot(years, exp_values, label='Exponential Growth Function', linestyle='--')\n",
    "\n",
    "# Calculate the difference between the simulated and the exponential function\n",
    "difference = values - exp_values\n",
    "\n",
    "# Plot the difference\n",
    "plt.figure(figsize=(10, 6))\n",
    "plt.plot(years, difference, label='Difference between Simulated and Exponential', color='red')\n",
    "\n",
    "plt.xlabel('Year')\n",
    "plt.ylabel('Value')\n",
    "plt.title('Investment Value Over Time')\n",
    "plt.legend()\n",
    "plt.grid(True)\n",
    "plt.show()\n"
   ]
  }
 ],
 "metadata": {
  "kernelspec": {
   "display_name": "Python 3",
   "language": "python",
   "name": "python3"
  },
  "language_info": {
   "name": "python",
   "version": "3.10.11"
  }
 },
 "nbformat": 4,
 "nbformat_minor": 2
}
